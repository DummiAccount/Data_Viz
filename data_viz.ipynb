{
 "cells": [
  {
   "cell_type": "markdown",
   "metadata": {},
   "source": [
    "# Matplotlib & Seaborn "
   ]
  },
  {
   "cell_type": "code",
   "execution_count": 1,
   "metadata": {},
   "outputs": [],
   "source": [
    "# Imports\n",
    "\n"
   ]
  },
  {
   "cell_type": "code",
   "execution_count": 2,
   "metadata": {},
   "outputs": [],
   "source": [
    "# Import and view cereal data\n",
    "\n",
    "\n"
   ]
  },
  {
   "cell_type": "code",
   "execution_count": 1,
   "metadata": {
    "scrolled": false
   },
   "outputs": [],
   "source": [
    "# Preliminary checks\n"
   ]
  },
  {
   "cell_type": "code",
   "execution_count": null,
   "metadata": {
    "scrolled": true
   },
   "outputs": [],
   "source": []
  },
  {
   "cell_type": "code",
   "execution_count": null,
   "metadata": {},
   "outputs": [],
   "source": []
  },
  {
   "cell_type": "code",
   "execution_count": null,
   "metadata": {},
   "outputs": [],
   "source": []
  },
  {
   "cell_type": "code",
   "execution_count": null,
   "metadata": {},
   "outputs": [],
   "source": []
  },
  {
   "cell_type": "markdown",
   "metadata": {},
   "source": [
    "## Bar Charts\n",
    "\n",
    "> \"A bar chart or bar graph is a chart or graph that presents categorical data with rectangular bars with heights or lengths proportional to the values that they represent.\" -[Wikipedia](https://en.wikipedia.org/wiki/Bar_chart)"
   ]
  },
  {
   "cell_type": "code",
   "execution_count": 10,
   "metadata": {},
   "outputs": [],
   "source": [
    "# Get top 10 most sugary cereals, save as a variable\n",
    "#What Pandas method should I use??\n",
    "\n",
    "\n",
    "\n",
    "\n"
   ]
  },
  {
   "cell_type": "code",
   "execution_count": 2,
   "metadata": {
    "scrolled": true
   },
   "outputs": [],
   "source": [
    "# Plot it! Let's use a bar chart to visualize the top 10 most sugary cereals\n",
    "\n",
    "\n"
   ]
  },
  {
   "cell_type": "code",
   "execution_count": 3,
   "metadata": {},
   "outputs": [],
   "source": [
    "#change size:\n",
    "#tuple with a width, height of 'canvas'\n",
    "\n",
    "#barplot\n",
    "\n",
    "#rotate tick marks\n",
    "#add rotation in degrees\n",
    "\n",
    "#add descriptive title\n",
    "\n",
    "\n",
    "\n",
    "# for matplotlib color options: https://matplotlib.org/stable/gallery/color/named_colors.html"
   ]
  },
  {
   "cell_type": "code",
   "execution_count": 4,
   "metadata": {
    "scrolled": false
   },
   "outputs": [],
   "source": [
    "# plt.barh() will create a horizontal bar chart. (Note the h at the end of bar!)\n",
    "\n",
    "#change size:\n",
    "#tuple with a width, height of 'canvas'\n",
    "\n",
    "#barh\n",
    "\n",
    "\n",
    "\n",
    "\n",
    "#add descriptive title and labels\n",
    "\n"
   ]
  },
  {
   "cell_type": "code",
   "execution_count": 5,
   "metadata": {},
   "outputs": [],
   "source": [
    "#lets do this in seaborn:\n",
    "\n",
    "\n",
    "\n",
    "#change size: \n",
    "\n",
    "#seaborn barplot\n",
    "\n",
    "\n",
    "#rotate tick marks\n",
    "#add rotation in degrees\n",
    "\n",
    "#add descriptive title\n",
    "\n"
   ]
  },
  {
   "cell_type": "markdown",
   "metadata": {},
   "source": [
    "## Histograms\n",
    "> Histograms are used to display the distribution of numerical data."
   ]
  },
  {
   "cell_type": "code",
   "execution_count": 6,
   "metadata": {},
   "outputs": [],
   "source": [
    "# Let's plot a histogram of cereal rating\n",
    "\n",
    "# Size\n",
    "\n",
    "\n",
    "\n",
    "# Plot it\n",
    "\n",
    "\n",
    "\n",
    "\n",
    "# colors: https://matplotlib.org/3.1.0/gallery/color/named_colors.html\n",
    "\n",
    "# Create a descriptive title\n"
   ]
  },
  {
   "cell_type": "markdown",
   "metadata": {},
   "source": [
    "## Scatter Plots\n",
    "> Scatter plots are used to display the relationship between two variables.\n",
    "\n",
    "> Can encode additional information into a scatter plot by using color, size and shape"
   ]
  },
  {
   "cell_type": "code",
   "execution_count": 7,
   "metadata": {},
   "outputs": [],
   "source": [
    "# # Let's create a scatter plot of calories vs. sugar\n",
    "# # Size\n",
    "\n",
    "\n",
    "plt.scatter(x = ,  # x-axis data\n",
    "            y = ,    # y-axis data\n",
    "            marker = ,            # shape of point \n",
    "            alpha = ,             # color scale to denote frequency (alpha = 1 <=> same color for everything)\n",
    "            color = );\n",
    "\n",
    "# # Create a descriptive title\n",
    "\n",
    "# # Add axis labels\n"
   ]
  },
  {
   "cell_type": "markdown",
   "metadata": {},
   "source": [
    "## Line Graphs\n",
    "> Line graphs (also known as line plots or line charts) use lines to connect data points to show the changes in numerical values over time."
   ]
  },
  {
   "cell_type": "code",
   "execution_count": 71,
   "metadata": {},
   "outputs": [],
   "source": [
    "# Generate data over time\n",
    "dates = pd.date_range('3-1-20', '7-30-20')\n",
    "bowls_eaten = np.random.poisson(1, size = 152)\n",
    "bowls = pd.DataFrame(list(zip(dates, bowls_eaten))).rename({0:'date', 1: 'bowls_eaten'}, axis =1)"
   ]
  },
  {
   "cell_type": "code",
   "execution_count": 8,
   "metadata": {},
   "outputs": [],
   "source": [
    "# Let's create a line plot of the number of bowls of cereal I've consumed\n",
    "\n",
    "# Size\n",
    "\n",
    "\n",
    "\n",
    "# Line plot\n",
    "\n",
    "\n",
    "# Create a descriptive title\n",
    "\n",
    "# Add axis labels\n",
    "\n",
    "\n"
   ]
  },
  {
   "cell_type": "markdown",
   "metadata": {},
   "source": [
    "## Heat Maps\n",
    "> Heat maps use color to show the strength of a relationship between two or more variables.\n",
    "\n",
    "A commonly seen implementation of a heatmap uses the [Seaborn library](https://seaborn.pydata.org)."
   ]
  },
  {
   "cell_type": "code",
   "execution_count": 9,
   "metadata": {},
   "outputs": [],
   "source": [
    "# This code is taken with minor modifications from https://seaborn.pydata.org/generated/seaborn.heatmap.html\n",
    "\n",
    "# Establish size of figure.\n",
    "\n",
    "\n",
    "\n",
    "# Get correlation of variables.\n",
    "\n",
    "\n",
    "\n",
    "# Set up mask to be \"True\" in the upper triangle.\n",
    "\n",
    "# Set up mask to be \"True\" in the upper triangle.\n",
    "\n",
    "\n",
    "\n",
    "\n",
    "# Plot our correlation heatmap, while masking the upper triangle to be white.\n"
   ]
  },
  {
   "cell_type": "markdown",
   "metadata": {},
   "source": [
    "## Advanced: Subplots\n",
    "> We can use subplots to easily compare multiple visualizations by sharing an axis."
   ]
  },
  {
   "cell_type": "code",
   "execution_count": 116,
   "metadata": {},
   "outputs": [
    {
     "data": {
      "image/png": "[encoded data removed]",
      "text/plain": [
       "<Figure size 1440x1008 with 3 Axes>"
      ]
     },
     "metadata": {
      "needs_background": "light"
     },
     "output_type": "display_data"
    }
   ],
   "source": [
    "# Establish figure size.\n",
    "plt.figure(figsize = (20, 14))\n",
    "\n",
    "# We can create subplots, which allows us to have multiple subplots in the same plot.\n",
    "# plt.subplot(3, 1, 1) means we have 3 rows, 1 column, and are referencing plot 1.\n",
    "ax1 = plt.subplot(3, 1, 1)\n",
    "ax1.set_title('Grams of Protein per Serving')\n",
    "ax1.set_xlabel('label')\n",
    "ax1.hist(df['protein'])\n",
    "ax1.axvline(x = np.mean(df['protein']), color = 'orange')\n",
    "\n",
    "# plt.subplot(3, 1, 2) means we have 3 rows, 1 column, and are referencing plot 2.\n",
    "ax2 = plt.subplot(3, 1, 2, sharex=ax1)\n",
    "ax2.set_title('Grams of Fat per Serving')\n",
    "ax2.hist(df['fat'])\n",
    "ax2.axvline(x = np.mean(df['fat']), color = 'orange')\n",
    "\n",
    "# plt.subplot(3, 1, 3) means we have 3 rows, 1 column, and are referencing plot 3.\n",
    "ax3 = plt.subplot(3, 1, 3, sharex=ax2)\n",
    "ax3.set_title('Grams of Carbohydrates per Serving')\n",
    "ax3.hist(df['carbo'])\n",
    "ax3.axvline(x = np.mean(df['carbo']), color = 'orange')\n",
    "\n",
    "plt.tight_layout(4); # adds more space"
   ]
  },
  {
   "cell_type": "markdown",
   "metadata": {},
   "source": [
    "---\n",
    "\n",
    "## More Visualization Libraries in Python\n",
    "\n",
    "In this lesson, you saw the matplotlib API and [Seaborn](https://seaborn.pydata.org/) (which uses Matplotlib under the hood). Other Popular Python visualization libraries include the following, which can be used for more advanced plots (like maps) or for interactive plotting:\n",
    "- [Bokeh](http://bokeh.pydata.org/en/latest/)\n",
    "- [Altair](https://altair-viz.github.io/)\n",
    "- [Plotly](https://plot.ly/python/getting-started/)\n",
    "\n"
   ]
  },
  {
   "cell_type": "code",
   "execution_count": null,
   "metadata": {},
   "outputs": [],
   "source": []
  }
 ],
 "metadata": {
  "kernelspec": {
   "display_name": "Python 3",
   "language": "python",
   "name": "python3"
  },
  "language_info": {
   "codemirror_mode": {
    "name": "ipython",
    "version": 3
   },
   "file_extension": ".py",
   "mimetype": "text/x-python",
   "name": "python",
   "nbconvert_exporter": "python",
   "pygments_lexer": "ipython3",
   "version": "3.6.8"
  }
 },
 "nbformat": 4,
 "nbformat_minor": 4
}
